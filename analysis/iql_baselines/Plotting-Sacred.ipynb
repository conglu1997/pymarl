{
 "cells": [
  {
   "cell_type": "code",
   "execution_count": null,
   "metadata": {
    "scrolled": true
   },
   "outputs": [],
   "source": [
    "import numpy as np\n",
    "from scipy import stats"
   ]
  },
  {
   "cell_type": "code",
   "execution_count": null,
   "metadata": {},
   "outputs": [],
   "source": [
    "from tqdm import tqdm_notebook"
   ]
  },
  {
   "cell_type": "code",
   "execution_count": null,
   "metadata": {},
   "outputs": [],
   "source": [
    "import pprint"
   ]
  },
  {
   "cell_type": "code",
   "execution_count": null,
   "metadata": {
    "scrolled": false
   },
   "outputs": [],
   "source": [
    "%matplotlib inline\n",
    "import matplotlib.pyplot as plt\n",
    "import pymongo\n",
    "import os, sys\n",
    "# sys.path = [root_dir] + sys.path"
   ]
  },
  {
   "cell_type": "code",
   "execution_count": null,
   "metadata": {
    "scrolled": true
   },
   "outputs": [],
   "source": [
    "from bokeh.io import push_notebook, show, output_notebook, export_svgs, export_png, save\n",
    "from bokeh.layouts import column, row, gridplot\n",
    "from bokeh.plotting import figure\n",
    "from bokeh.models import Band, Span, Range1d\n",
    "from bokeh.models.sources import ColumnDataSource\n",
    "from bokeh.models.formatters import NumeralTickFormatter\n",
    "from bokeh.palettes import all_palettes, magma, Set3\n",
    "from bokeh.models import Range1d\n",
    "from bokeh.models import FixedTicker\n",
    "output_notebook()"
   ]
  },
  {
   "cell_type": "code",
   "execution_count": null,
   "metadata": {
    "scrolled": true
   },
   "outputs": [],
   "source": [
    "def ewma(x, alpha):\n",
    "    '''\n",
    "    Returns the exponentially weighted moving average of x.\n",
    "\n",
    "    Parameters:\n",
    "    -----------\n",
    "    x : array-like\n",
    "    alpha : float {0 <= alpha <= 1}\n",
    "\n",
    "    Returns:\n",
    "    --------\n",
    "    ewma : numpy array\n",
    "        the exponentially weighted moving average\n",
    "    '''\n",
    "    # coerce x to an array\n",
    "    x = np.array(x)\n",
    "    n = x.size\n",
    "    # create an initial weight matrix of (1-alpha), and a matrix of powers\n",
    "    # to raise the weights by\n",
    "    w0 = np.ones(shape=(n,n)) * (1-alpha) \n",
    "    p = np.vstack([np.arange(i,i-n,-1) for i in range(n)])\n",
    "    # create the weight matrix\n",
    "    w = np.tril(w0**p,0)\n",
    "    # calculate the ewma\n",
    "    return np.dot(w, x[::np.newaxis]) / w.sum(axis=1)"
   ]
  },
  {
   "cell_type": "code",
   "execution_count": null,
   "metadata": {
    "scrolled": true
   },
   "outputs": [],
   "source": [
    "def mean_confidence_interval(data, confidence=0.95):\n",
    "    a = np.array(data)\n",
    "    n = a.shape[0]\n",
    "    m, se = a.mean(axis=0), stats.sem(a, axis=0)\n",
    "    h = se * stats.t._ppf((1+confidence)/2., n-1)\n",
    "    return m, h"
   ]
  },
  {
   "cell_type": "code",
   "execution_count": null,
   "metadata": {
    "scrolled": true
   },
   "outputs": [],
   "source": [
    "def get_stats(y_key):\n",
    "    means = {}\n",
    "    stds = {}\n",
    "    nums = {}\n",
    "    for key in tqdm_notebook(keys, desc=\"params\", leave=False):\n",
    "        runs = data[key][:limit]\n",
    "#         print(runs)\n",
    "        interps = []\n",
    "\n",
    "        for run in tqdm_notebook(runs, desc=\"runs\", leave=False):\n",
    "            \n",
    "            if \"{}_T\".format(y_key) not in run:\n",
    "                print(\"Field: {} not in run for {}\".format(y_key, key))\n",
    "                continue\n",
    "            \n",
    "            xs = run[\"{}_T\".format(y_key)]\n",
    "            ys = run[y_key]\n",
    "            \n",
    "#             xs = [a[\"py/tuple\"][0] for a in run]\n",
    "#             ys = [a[\"py/tuple\"][1] for a in run]\n",
    "            \n",
    "            # Check they are long enough\n",
    "            if xs[-1] < t_needed:\n",
    "                if print_not_long_enough:\n",
    "                    print(\"Run not long enough: {} for key: {}\".format(xs[-1], key))\n",
    "                continue\n",
    "\n",
    "            # Align them\n",
    "#             diffs = len(xs) - len(ys)\n",
    "#             xs = xs[diffs:]\n",
    "            y_interp = np.interp(x_interp, xs, ys)\n",
    "\n",
    "            y_interp_smoothed = ewma(y_interp, smoother)\n",
    "#             y_interp_smoothed = y_interp\n",
    "    \n",
    "            interps.append(y_interp_smoothed)\n",
    "        \n",
    "        if interps == []:\n",
    "            continue\n",
    "\n",
    "        joined_array = np.array(interps)\n",
    "        if confidence_interval:\n",
    "            mean, std = mean_confidence_interval(joined_array, confidence=confidence_interval)\n",
    "        else:\n",
    "            mean = np.mean(joined_array, axis=0)\n",
    "            std = np.std(joined_array, axis=0)\n",
    "        means[key] = mean\n",
    "        stds[key] = std\n",
    "        nums[key] = len(interps)\n",
    "    return means, stds, nums"
   ]
  },
  {
   "cell_type": "code",
   "execution_count": null,
   "metadata": {
    "scrolled": true
   },
   "outputs": [],
   "source": [
    "def plot(means, stds, nums, x_label, y_label, t_max, indivs=False, title=''):\n",
    "    \n",
    "    x_vals_interp = x_interp\n",
    "          \n",
    "    keys =  means.keys()\n",
    "    p = figure(plot_width=1400, plot_height=800, x_range=[0, t_max], title=title)\n",
    "\n",
    "    y_min = 0\n",
    "    y_max = 1\n",
    "\n",
    "    num_lines = len(keys)\n",
    "    if num_lines < 3:\n",
    "        magma_cols = [\"red\", \"green\"][:num_lines]\n",
    "    else:\n",
    "        magma_cols = Set3[num_lines]\n",
    "    colors = {}\n",
    "    for key, col in zip(keys, magma_cols):\n",
    "        colors[key] = col\n",
    "        \n",
    "    for key in keys:\n",
    "        if 'checkpoints' in key and 'ff' in key:\n",
    "            color = '#fb8072'\n",
    "        elif 'checkpoints' in key and 'rnn' in key:\n",
    "            color = '#bebada'\n",
    "        elif 'ff' in key:\n",
    "            color = '#ffffb3'\n",
    "        else:\n",
    "            color = '#8dd3c7'\n",
    "        \n",
    "        name = key\n",
    "\n",
    "        p.line(x_vals_interp, means[key], color=color, legend=name + \" [\" + str(nums[key]) + \"]\", line_width=5)\n",
    "\n",
    "        xs = list(x_vals_interp) + list(reversed(x_vals_interp))\n",
    "\n",
    "        mm = means[key]\n",
    "        ss = stds[key]\n",
    "        ys = np.concatenate([mm - ss, np.flip(mm + ss, axis=0)])\n",
    "        lls = p.patch(xs, ys, color=color, alpha=0.2)\n",
    "\n",
    "        y_max = max(y_max, max(means[key]))\n",
    "        y_min = min(y_min, min(means[key]))\n",
    "        \n",
    "        if indivs:\n",
    "            for run in data[key][:limit]:\n",
    "                if \"{}_T\".format(y_label) not in run:\n",
    "                    continue\n",
    "\n",
    "                xs = run[\"{}_T\".format(y_label)]\n",
    "                ys = run[y_label]\n",
    "\n",
    "                p.line(xs, ys, color=color, line_width=1, alpha=0.4)\n",
    "\n",
    "                y_max = max(y_max, max(ys))\n",
    "                y_min = min(y_min, min(ys))\n",
    "        \n",
    "    p.y_range = Range1d(y_min * 1.1, y_max * 1.1)\n",
    "\n",
    "    p.grid.grid_line_width=2\n",
    "    p.grid.minor_grid_line_width=2\n",
    "    p.grid.grid_line_color=(1,1,1,0.1)\n",
    "\n",
    "    p.grid.minor_grid_line_color=(1,1,1,0.1)\n",
    "    p.xgrid.minor_grid_line_color=None\n",
    "\n",
    "    p.yaxis.formatter = NumeralTickFormatter(format=\"0.0a\")\n",
    "    p.yaxis[0].ticker.desired_num_ticks = 5\n",
    "    p.yaxis[0].ticker.num_minor_ticks = 2\n",
    "\n",
    "    p.xaxis.formatter = NumeralTickFormatter(format=\"0.0a\")\n",
    "\n",
    "    p.legend.location = (0,0)\n",
    "\n",
    "    p.xaxis.axis_label= x_label\n",
    "    p.yaxis.axis_label= y_label\n",
    "\n",
    "#     p.xaxis.axis_label_standoff=-20\n",
    "#     p.yaxis.axis_label_standoff=-30\n",
    "\n",
    "    p.xaxis.axis_label_text_font_style=\"normal\"\n",
    "    p.yaxis.axis_label_text_font_style=\"normal\"\n",
    "\n",
    "    p.xaxis.axis_label_text_font_size=\"26pt\"\n",
    "    p.yaxis.axis_label_text_font_size=\"26pt\"\n",
    "\n",
    "    p.xaxis.major_label_text_font_size=\"24pt\"\n",
    "    p.yaxis.major_label_text_font_size=\"24pt\"\n",
    "\n",
    "    # p.legend.label_text_font_size=\"16pt\"\n",
    "    p.legend.visible=True\n",
    "    p.legend.location=\"top_right\"\n",
    "    # p.legend.orientation=\"horizontal\"\n",
    "    # p.legend.glyph_width=60\n",
    "    # p.legend.glyph_height=100\n",
    "\n",
    "    p.title.text_font_size=\"24pt\"\n",
    "\n",
    "#    p.h_symmetry = False\n",
    "    p.min_border_right = 70\n",
    "    p.min_border_left = 0\n",
    "    p.min_border_bottom = 0\n",
    "#     p.yaxis.axis_label_text_line_height = 1\n",
    "#     p.yaxis.bounds = (400,400)\n",
    "#     p.yaxis.bounds\n",
    "#     p.yaxis.axis_label_text_baseline=\"top\"\n",
    "#     p.yaxis.axis_label_text_align=\"center\"\n",
    "    p.min_border_top = 30\n",
    "#     p.border_fill_color = (1,1,1,0.1)\n",
    "\n",
    "    p.axis.axis_line_width = 3\n",
    "    p.axis.major_tick_line_width = 5\n",
    "    p.axis.major_tick_in = 10\n",
    "    p.axis.major_tick_out = 5\n",
    "\n",
    "    show(p, notebook_handle=True)\n",
    "    # save(p, filename=\"{}.png\".format(title))\n",
    "    # export_png(plot, filename=\"{}.png\".format(title))"
   ]
  },
  {
   "cell_type": "code",
   "execution_count": null,
   "metadata": {
    "scrolled": true
   },
   "outputs": [],
   "source": []
  },
  {
   "cell_type": "code",
   "execution_count": null,
   "metadata": {
    "scrolled": true
   },
   "outputs": [],
   "source": [
    "label = \"gfootball_iql_simple115_22_4\""
   ]
  },
  {
   "cell_type": "code",
   "execution_count": null,
   "metadata": {
    "scrolled": true
   },
   "outputs": [],
   "source": [
    "import json\n",
    "\n",
    "# Load from sacred, dictionaries for config and info. Make sure the label is correct.\n",
    "exps = []\n",
    "\n",
    "subfolders = [f.path for f in os.scandir('/Users/conglu/Docker Repos/pymarl/cong_scripts/sacred') if f.is_dir()]\n",
    "\n",
    "for sf in subfolders:\n",
    "    with open('{0}/config.json'.format(sf)) as json_file:\n",
    "        config = json.load(json_file)\n",
    "    with open('{0}/info.json'.format(sf)) as json_file:\n",
    "        info = json.load(json_file)\n",
    "    exps.append({'info' : info, 'config' : config})"
   ]
  },
  {
   "cell_type": "code",
   "execution_count": null,
   "metadata": {
    "scrolled": true
   },
   "outputs": [],
   "source": [
    "# Keys\n",
    "info_keys = set()\n",
    "for exp in exps:\n",
    "    exp_keys = exp[\"info\"].keys()\n",
    "    for key in exp_keys:\n",
    "        info_keys.add(key)\n",
    "print(\"Keys in info:\")\n",
    "pprint.pprint(list(filter(lambda x: not x.endswith(\"_T\"), sorted(info_keys))))"
   ]
  },
  {
   "cell_type": "code",
   "execution_count": null,
   "metadata": {
    "scrolled": true
   },
   "outputs": [],
   "source": [
    "params = [\"name\"]\n",
    "\n",
    "t_max = 20 * 1000 * 1000\n",
    "t_needed = t_max - 18 * 1000 * 1000\n",
    "\n",
    "limit = 50\n",
    "x_key = \"T env\" # x-axis label\n",
    "x_interp = np.linspace(0, t_max, 2001)\n",
    "\n",
    "confidence_interval = False\n",
    "smoother = 0.25"
   ]
  },
  {
   "cell_type": "code",
   "execution_count": null,
   "metadata": {},
   "outputs": [],
   "source": []
  },
  {
   "cell_type": "code",
   "execution_count": null,
   "metadata": {},
   "outputs": [],
   "source": []
  },
  {
   "cell_type": "code",
   "execution_count": null,
   "metadata": {
    "scrolled": true
   },
   "outputs": [],
   "source": [
    "for scenario in [\"academy_empty_goal\",\n",
    "                    \"academy_empty_goal_close\",\n",
    "                  \"academy_run_to_score\",\n",
    "                  \"academy_run_to_score_with_keeper\",\n",
    "                  \"academy_pass_and_shoot_with_keeper\",\n",
    "                  \"academy_run_pass_and_shoot_with_keeper\",\n",
    "                  \"academy_3_vs_1_with_keeper\",\n",
    "                 \"academy_counterattack_easy\"]:\n",
    "    keys = set()\n",
    "    data = {}\n",
    "    for exp in exps:\n",
    "        exp_config = exp[\"config\"]\n",
    "        if not exp_config['env_args']['scenario'] == scenario:\n",
    "            continue\n",
    "        if exp[\"info\"] == {}:\n",
    "            continue\n",
    "        exp_info = exp[\"info\"]\n",
    "    #     if exp_info == {}:\n",
    "    #         continue\n",
    "        params_str = \"__\".join([\"{}-{}\".format(param, exp_config[param]) for param in params])\n",
    "        keys.add(params_str)\n",
    "        if params_str not in data:\n",
    "            data[params_str] = [exp_info]\n",
    "        else:\n",
    "            data[params_str].append(exp_info)\n",
    "    \n",
    "    print_not_long_enough = False\n",
    "\n",
    "    for y_key in tqdm_notebook(['ep_length_mean',\n",
    " 'episode',\n",
    " 'epsilon',\n",
    " 'grad_norm',\n",
    " 'loss',\n",
    " 'q_taken_mean',\n",
    " 'return_mean',\n",
    " 'return_std',\n",
    " 'score_reward_mean',\n",
    " 'target_mean',\n",
    " 'td_error_abs',\n",
    " 'test_ep_length_mean',\n",
    " 'test_return_mean',\n",
    " 'test_return_std',\n",
    " 'test_score_reward_mean'], desc=\"keys\", leave=False):\n",
    "        x_key = \"T env\"\n",
    "        m, s, n = get_stats(y_key)\n",
    "        print(n)\n",
    "        plot(m, s, n, x_key, y_key, t_max, indivs=True, title=scenario)"
   ]
  }
 ],
 "metadata": {
  "kernelspec": {
   "display_name": "Python 3",
   "language": "python",
   "name": "python3"
  },
  "language_info": {
   "codemirror_mode": {
    "name": "ipython",
    "version": 3
   },
   "file_extension": ".py",
   "mimetype": "text/x-python",
   "name": "python",
   "nbconvert_exporter": "python",
   "pygments_lexer": "ipython3",
   "version": "3.7.5"
  }
 },
 "nbformat": 4,
 "nbformat_minor": 2
}
